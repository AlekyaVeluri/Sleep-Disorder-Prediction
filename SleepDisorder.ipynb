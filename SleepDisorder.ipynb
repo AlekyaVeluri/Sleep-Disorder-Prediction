# Sleep Disorder Prediction
The aim of the project is to analyze the person's lifestyles and medical variables such as age, BMI, physical activity, sleep duration, blood pressure, and many more, to predict the sleep disorder and its type.
### Data Dictionary

| Column Name | Description |
| --- | --- |
| Person_ID | Unique ID assigned to each person |
| Gender | The gender of the person (Male/Female) |
| Age | Age of the person in years |
| Occupation | The occupation of the person |
| Sleep_duration | The duration of sleep of the person in hours |
| Quality_of_sleep | A subjective rating of the quality of sleep, ranging from 1 to 10 |
| Physical_activity | The level of physical activity of the person (Low/Medium/High) |
| Stress Level | A subjective rating of the stress level, ranging from 1 to 10 |
| BMI_category | The BMI category of the person (Underweight/Normal/Overweight/Obesity) |
| Blood_pressure | The blood pressure of the person in mmHg |
| Heart_rate | The heart rate of the person in beats per minute |
| Daily Steps | The number of steps taken by the person per day |
| Sleep_disorder | The presence or absence of a sleep disorder in the person (None, Insomnia, Sleep Apnea) |

# importing the libraries
import numpy as np
import pandas as pd
import matplotlib.pyplot as plt
import seaborn as sns

# loading the dataset
df = pd.read_csv('SleepDataSet.csv')
df.head()

# checking for missing values
df.isnull().sum()

# replacing the null values with 'None' in the column 'Sleep Disorder'
df['Sleep Disorder'] = df['Sleep Disorder'].fillna('None')

## Data Preprocessing Part 1

# setting graph styles and display graphs inline
sns.set_theme(style="whitegrid")
%matplotlib inline

# splitting dataset into traning and testing sets
from sklearn.model_selection import train_test_split
X_train, X_test, y_train, y_test = train_test_split(df.drop('Sleep Disorder', axis=1), df['Sleep Disorder'], test_size=0.3, random_state=42)

## Model Building

To predict sleep disorders using classification algorithms, we will use Decision Tree Classifier

### Decision Tree Classifier
# initialize Decision Tree classifier
from sklearn.model_selection import train_test_split
from sklearn.tree import DecisionTreeClassifier
from sklearn.metrics import accuracy_score, classification_report
from sklearn.preprocessing import LabelEncoder

# One-Hot Encoding for categorical columns 
df_encoded = pd.get_dummies(df, columns=['Gender', 'Occupation', 'Physical Activity Level', 'BMI Category'])

# Split data into features (X) and target (y)
X = df_encoded.drop('Sleep Disorder', axis=1)  # Independent variables
y = df_encoded['Sleep Disorder']               # Target variable

# Encode the target variable if it’s categorical
y = LabelEncoder().fit_transform(y)

# Split dataset into training and testing sets
X_train, X_test, y_train, y_test = train_test_split(X, y, test_size=0.3, random_state=42)


# Initialize and train the Decision Tree Classifier
dtree = DecisionTreeClassifier(random_state=42)
dtree.fit(X_train, y_train)

# Training accuracy
train_accuracy = dtree.score(X_train, y_train)
print("Training Accuracy:", train_accuracy)

### Decision Tree Model Evaluation

# make predictions
d_pred = dtree.predict(X_test)
d_pred
# visualize model accuracy with a Confusion Matrix
from sklearn.metrics import confusion_matrix
sns.heatmap(confusion_matrix(y_test, d_pred), annot=True, cmap='Blues', fmt='g')
plt.title('Confusion Matrix')
plt.xlabel('Actual')
plt.ylabel('Predicted')
plt.show()

The confusion matrix shows true positives (correct predictions) along the diagonal. The off-diagonal cells indicate false positives (incorrect predictions).
### Distribution Plot for Predicted and Actual Values
# Make predictions on the test set
y_pred = dtree.predict(X_test)

# Create a DataFrame to hold the actual and predicted values for easy comparison
comparison_df = pd.DataFrame({
    'Actual': y_test,
    'Predicted': y_pred
})

# Count the occurrences of each class in the actual and predicted columns
actual_counts = comparison_df['Actual'].value_counts().sort_index()
predicted_counts = comparison_df['Predicted'].value_counts().sort_index()

# Define the class names (your target labels)
class_names = ['None', 'Insomnia', 'Sleep Apnea']

# Plotting the bar plot
fig, ax = plt.subplots(figsize=(10, 6))

bar_width = 0.35  # Width of bars
index = np.arange(len(actual_counts))  # Bar positions

# Create bars for actual and predicted values
bar1 = ax.bar(index, actual_counts, bar_width, label='Actual', color='blue')
bar2 = ax.bar(index + bar_width, predicted_counts, bar_width, label='Predicted', color='red')

# Add labels, title, and legend
ax.set_xlabel('Sleep Disorder')
ax.set_ylabel('Count')
ax.set_title('Actual vs Predicted Counts of Sleep Disorder')

# Set x-ticks to the class names
ax.set_xticks(index + bar_width / 2)
ax.set_xticklabels(class_names)

ax.legend()

# Show the plot
plt.show()

The actual values are shown in red, while the predicted values are in blue. The model's predictions follow the actual data trend, but there are noticeable differences, indicating the model may not predict values with perfect accuracy.
##### Classification Report

# generate report
from sklearn.metrics import classification_report
print(classification_report(y_test, d_pred))

## Conclusion

This project explored the prediction of sleep disorders using classification algorithms. The Decision Tree model performed well, achieving an accuracy of 87% with a decent F1 score.
